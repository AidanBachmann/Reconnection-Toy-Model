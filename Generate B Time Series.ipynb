{
 "cells": [
  {
   "cell_type": "code",
   "execution_count": 1,
   "id": "939baa21",
   "metadata": {},
   "outputs": [
    {
     "name": "stdout",
     "output_type": "stream",
     "text": [
      "importing Jupyter notebook from EquationsOfMotion.ipynb\n"
     ]
    }
   ],
   "source": [
    "import numpy as np\n",
    "import matplotlib.pyplot as plt\n",
    "import os\n",
    "import import_ipynb\n",
    "import glob\n",
    "from PIL import Image\n",
    "\n",
    "import EquationsOfMotion as EOM\n",
    "\n",
    "%matplotlib inline"
   ]
  },
  {
   "cell_type": "code",
   "execution_count": 2,
   "id": "08b4916a",
   "metadata": {},
   "outputs": [],
   "source": [
    "os.getcwd()\n",
    "os.chdir('../Figures')"
   ]
  },
  {
   "cell_type": "code",
   "execution_count": 3,
   "id": "c033704d",
   "metadata": {},
   "outputs": [],
   "source": [
    "def make_gif(numFrames): #Make gif from frames\n",
    "    #frames = [Image.open(image) for image in glob.glob(f\"*.png\")]\n",
    "    frames = []\n",
    "    for i in np.linspace(1,numFrames,numFrames,dtype='int'):\n",
    "        frames.append(Image.open(f'{i}.png'))\n",
    "    frame_one = frames[0]\n",
    "    frame_one.save(\"B.gif\", format=\"GIF\", append_images=frames,\n",
    "               save_all=True, duration=65, loop=0)"
   ]
  },
  {
   "cell_type": "code",
   "execution_count": 4,
   "id": "129b2162",
   "metadata": {},
   "outputs": [],
   "source": [
    "d = 0.6 #Diameter of background plasma\n",
    "dt = 1e-2 #Time step\n",
    "t0 = 0 #Initial time\n",
    "Nt = 500"
   ]
  },
  {
   "cell_type": "code",
   "execution_count": 5,
   "id": "7d1f623c",
   "metadata": {},
   "outputs": [],
   "source": [
    "# ---------- Paramters for Visualizing Fields ----------\n",
    "\n",
    "N = 101 #Number of points\n",
    "lb = -d/2 #Lower bound\n",
    "ub = d/2 #Upper bound\n",
    "n = N-1 #Number of points minus 1, useful for indexing\n",
    "dn = n/ub #Points per unit length\n",
    "\n",
    "X = np.linspace(lb,ub,N) #Create linspace array based on grid parameters\n",
    "x,y = np.meshgrid(X,X) #Initialize meshgrid\n",
    "sign = 1\n",
    "\n",
    "useNorm = True #Use normalized arrows on quiver plot\n",
    "\n",
    "threshold = 0 #Threshold for where to set A,B = 0"
   ]
  },
  {
   "cell_type": "code",
   "execution_count": 6,
   "id": "8ba450bd",
   "metadata": {},
   "outputs": [],
   "source": [
    "Scale = 65 #Quiver plot scale"
   ]
  },
  {
   "cell_type": "code",
   "execution_count": 7,
   "id": "8caddd78",
   "metadata": {
    "scrolled": false
   },
   "outputs": [],
   "source": [
    "#Bx,_ = EOM.generateTimeSeries(x,y,t0,dt,Nt,EOM.computeBx)\n",
    "#By,t = EOM.generateTimeSeries(x,y,t0,dt,Nt,EOM.computeBy)\n",
    "\n",
    "#EOM.plotBTimeSeries(x,y,Bx,By,t,Scale)"
   ]
  },
  {
   "cell_type": "code",
   "execution_count": 8,
   "id": "799d97ea",
   "metadata": {},
   "outputs": [],
   "source": [
    "make_gif(Nt)"
   ]
  }
 ],
 "metadata": {
  "kernelspec": {
   "display_name": "Python 3",
   "language": "python",
   "name": "python3"
  },
  "language_info": {
   "codemirror_mode": {
    "name": "ipython",
    "version": 3
   },
   "file_extension": ".py",
   "mimetype": "text/x-python",
   "name": "python",
   "nbconvert_exporter": "python",
   "pygments_lexer": "ipython3",
   "version": "3.8.8"
  }
 },
 "nbformat": 4,
 "nbformat_minor": 5
}
